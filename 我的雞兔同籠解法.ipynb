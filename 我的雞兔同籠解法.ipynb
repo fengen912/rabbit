{
 "cells": [
  {
   "cell_type": "code",
   "execution_count": 2,
   "id": "c0e0eba5",
   "metadata": {},
   "outputs": [
    {
     "name": "stdout",
     "output_type": "stream",
     "text": [
      "雞免同籠共有幾隻35\n",
      "一共幾隻腳94\n",
      "籠子裡有12隻兔子，有23隻雞\n"
     ]
    }
   ],
   "source": [
    "H= int(input(\"雞免同籠共有幾隻\"))\n",
    "F= int(input(\"一共幾隻腳\"))\n",
    "\n",
    "C = int((4 * H - F)/2)\n",
    "R = H - C\n",
    "\n",
    "print(f\"籠子裡有{R}隻兔子，有{C}隻雞\")"
   ]
  },
  {
   "cell_type": "code",
   "execution_count": null,
   "id": "7cbb4c1e-1f82-4ee4-b9f0-07d2857014af",
   "metadata": {},
   "outputs": [],
   "source": []
  },
  {
   "cell_type": "code",
   "execution_count": 3,
   "id": "1661f34d",
   "metadata": {},
   "outputs": [
    {
     "ename": "SyntaxError",
     "evalue": "unterminated string literal (detected at line 7) (2259263253.py, line 7)",
     "output_type": "error",
     "traceback": [
      "\u001b[0;36m  Cell \u001b[0;32mIn[3], line 7\u001b[0;36m\u001b[0m\n\u001b[0;31m    print(\"籠子裡有\",int(R),\"隻兔子，有”,int(C),\"隻雞\")\u001b[0m\n\u001b[0m                                          ^\u001b[0m\n\u001b[0;31mSyntaxError\u001b[0m\u001b[0;31m:\u001b[0m unterminated string literal (detected at line 7)\n"
     ]
    }
   ],
   "source": []
  },
  {
   "cell_type": "code",
   "execution_count": null,
   "id": "fa5337d0",
   "metadata": {},
   "outputs": [],
   "source": []
  }
 ],
 "metadata": {
  "kernelspec": {
   "display_name": "Python 3 (ipykernel)",
   "language": "python",
   "name": "python3"
  },
  "language_info": {
   "codemirror_mode": {
    "name": "ipython",
    "version": 3
   },
   "file_extension": ".py",
   "mimetype": "text/x-python",
   "name": "python",
   "nbconvert_exporter": "python",
   "pygments_lexer": "ipython3",
   "version": "3.11.4"
  }
 },
 "nbformat": 4,
 "nbformat_minor": 5
}
